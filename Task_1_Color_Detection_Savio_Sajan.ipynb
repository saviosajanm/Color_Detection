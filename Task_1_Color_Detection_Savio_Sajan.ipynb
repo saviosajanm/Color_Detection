{
 "cells": [
  {
   "cell_type": "markdown",
   "id": "b0db0e83",
   "metadata": {},
   "source": [
    "# Task 1: Implementing Color Detection on any given image"
   ]
  },
  {
   "cell_type": "markdown",
   "id": "87d0d102",
   "metadata": {},
   "source": [
    "### *Installing and importing libraries used*"
   ]
  },
  {
   "cell_type": "code",
   "execution_count": null,
   "id": "5ef322fd",
   "metadata": {
    "scrolled": false
   },
   "outputs": [],
   "source": [
    "!pip install opencv-python\n",
    "!pip install pandas\n",
    "!pip install numpy"
   ]
  },
  {
   "cell_type": "code",
   "execution_count": null,
   "id": "43117f28",
   "metadata": {},
   "outputs": [],
   "source": [
    "import cv2\n",
    "import pandas as pd\n",
    "import numpy as np\n",
    "import tkinter as tk\n",
    "from tkinter import filedialog\n",
    "from PIL import Image, ImageTk"
   ]
  },
  {
   "cell_type": "markdown",
   "id": "bab1d81a",
   "metadata": {},
   "source": [
    "### *Creating functionality to import and save an image*"
   ]
  },
  {
   "cell_type": "code",
   "execution_count": null,
   "id": "60e660f2",
   "metadata": {},
   "outputs": [],
   "source": [
    "# Function to create a TKinter functionality for selecting a file (prefferably an image)\n",
    "\n",
    "def open_file_dialog():\n",
    "    root = tk.Tk()\n",
    "    root.withdraw()\n",
    "    file_path = filedialog.askopenfilename()\n",
    "    return file_path"
   ]
  },
  {
   "cell_type": "code",
   "execution_count": null,
   "id": "2a5ca08f",
   "metadata": {},
   "outputs": [],
   "source": [
    "# TKinter dialog opens and file is selected and read here\n",
    "\n",
    "file_path = open_file_dialog()\n",
    "if file_path:\n",
    "    img = cv2.imread(file_path)\n",
    "    if img is None:\n",
    "        print(\"Failed to read the image.\")"
   ]
  },
  {
   "cell_type": "code",
   "execution_count": null,
   "id": "7fe9380a",
   "metadata": {},
   "outputs": [],
   "source": [
    "# Dimensions of the image\n",
    "\n",
    "img.shape"
   ]
  },
  {
   "cell_type": "markdown",
   "id": "fa5cae63",
   "metadata": {},
   "source": [
    "### *Importing the colors dataset*"
   ]
  },
  {
   "cell_type": "code",
   "execution_count": null,
   "id": "619e689a",
   "metadata": {},
   "outputs": [],
   "source": [
    "# Reading the CSV dataset of colors and their names and RGB values\n",
    "\n",
    "df = pd.read_csv('colors.csv', names=[\"color\", \"color_name\", \"hex_value\", \"R\", \"G\", \"B\"], header=None)"
   ]
  },
  {
   "cell_type": "code",
   "execution_count": null,
   "id": "2e58c914",
   "metadata": {
    "scrolled": true
   },
   "outputs": [],
   "source": [
    "# First 5 rows of the colors dataset\n",
    "\n",
    "df.head()"
   ]
  },
  {
   "cell_type": "markdown",
   "id": "0072cce6",
   "metadata": {},
   "source": [
    "### *Functionality to detect the RGB of any point in the image and find the closes color name to it*"
   ]
  },
  {
   "cell_type": "code",
   "execution_count": null,
   "id": "fcdf91b5",
   "metadata": {},
   "outputs": [],
   "source": [
    "# Initializing variables for storing the RGB values of a clicked point and state of click\n",
    "\n",
    "clicked = False\n",
    "r, g, b, xpos, ypos = 0 , 0, 0, 0, 0"
   ]
  },
  {
   "cell_type": "code",
   "execution_count": null,
   "id": "f6401f73",
   "metadata": {},
   "outputs": [],
   "source": [
    "# Getting the RGB values of the point of image clicked by the mouse and storing them in the above initialized variables \n",
    "\n",
    "def get_rgb(event, x, y, flags, param):\n",
    "    if event == cv2.EVENT_LBUTTONDBLCLK:\n",
    "        global b,g,r,xpos,ypos, clicked\n",
    "        clicked = True\n",
    "        xpos = x\n",
    "        ypos = y\n",
    "        b,g,r = img[y,x]\n",
    "        b = int(b)\n",
    "        g = int(g)\n",
    "        r = int(r)"
   ]
  },
  {
   "cell_type": "code",
   "execution_count": null,
   "id": "8d7cbe6b",
   "metadata": {},
   "outputs": [],
   "source": [
    "# Searching throught the dataset to find the closest color name to the RGB values extracted from the mouse click\n",
    "\n",
    "def get_color(r, g, b):\n",
    "    minimum = 10000\n",
    "    global df\n",
    "    for i in range(len(df)):\n",
    "        d = abs(r - int(df.loc[i,\"R\"])) + abs(g - int(df.loc[i,\"G\"]))+ abs(b - int(df.loc[i,\"B\"]))\n",
    "        if(d <= minimum):\n",
    "            minimum = d\n",
    "            cname = df.loc[i,\"color_name\"]\n",
    "    return cname"
   ]
  },
  {
   "cell_type": "markdown",
   "id": "62c8696b",
   "metadata": {},
   "source": [
    "### *Image window where a click on the image shows the color name and color of the click point*"
   ]
  },
  {
   "cell_type": "code",
   "execution_count": null,
   "id": "8a867a32",
   "metadata": {},
   "outputs": [],
   "source": [
    "cv2.namedWindow('image')\n",
    "cv2.setMouseCallback('image',get_rgb)\n",
    "while(1):\n",
    "    cv2.imshow(\"image\",img)\n",
    "    if (clicked):\n",
    "        \n",
    "        # Creating Text box to show the name of the color and the color itself represented by the box\n",
    "        \n",
    "        cv2.rectangle(img,(20, 20), (img.shape[1] - 20, 60), (b,g,r), -1)\n",
    "        cv2.putText(img, get_color(r,g,b), (50,50), 4, 1 ,(255 - b, 255 - g, 255 - r), 1, cv2.LINE_AA)\n",
    "        \n",
    "        #resetting the click state allowing the color detection to be performed multiple times\n",
    "        clicked=False\n",
    "        \n",
    "    if cv2.waitKey(20) & 0xFF == 27:\n",
    "        break\n",
    "cv2.destroyAllWindows()"
   ]
  }
 ],
 "metadata": {
  "kernelspec": {
   "display_name": "Python 3 (ipykernel)",
   "language": "python",
   "name": "python3"
  },
  "language_info": {
   "codemirror_mode": {
    "name": "ipython",
    "version": 3
   },
   "file_extension": ".py",
   "mimetype": "text/x-python",
   "name": "python",
   "nbconvert_exporter": "python",
   "pygments_lexer": "ipython3",
   "version": "3.9.16"
  }
 },
 "nbformat": 4,
 "nbformat_minor": 5
}
